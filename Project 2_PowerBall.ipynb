{
 "cells": [
  {
   "cell_type": "code",
   "execution_count": null,
   "id": "083a05fe",
   "metadata": {},
   "outputs": [],
   "source": [
    "import random\n",
    "active=True \n",
    "while active:\n",
    "    enter=input(\"Enter $2 if you want a powerball ticket: \")\n",
    "    num1=int(input(\"Enter your first number (1-69): \"))\n",
    "    num2=int(input(\"Enter your second number (1-69): \"))\n",
    "    num3=int(input(\"Enter your third number (1-69): \"))\n",
    "    num4=int(input(\"Enter your fourth number (1-69): \"))\n",
    "    num5=int(input(\"Enter your fifth number (1-69): \"))\n",
    "    pnum=int(input(\"Enter your powerball number (1-26): \"))\n",
    "    cnum1=random.randrange(1,70)\n",
    "    cnum2=random.randrange(1,70)\n",
    "    cnum3=random.randrange(1,70)\n",
    "    cnum4=random.randrange(1,70)\n",
    "    cnum5=random.randrange(1,70)\n",
    "    cpnum=random.randrange(1,27)\n",
    "    print(f\"Your numbers: {num1}, {num2}, {num3}, {num4}, {num5}, {pnum}\")\n",
    "    print(f\"Powerball numbers: {cnum1}, {cnum2}, {cnum3}, {cnum4}, {cnum5}\")\n",
    "    if num1 == cnum1 or num1 == cnum1 or num3 == cnum1 or num4 == cnum1 or num5 == cnum1 and num1 == cnum2 or num2 == cnum2 or num3 == cnum2 or num4 == cnum2 or num5 == cnum2 and num1 == cnum3 or num2 == cnum3 or num3 == cnum3 or num4 == cnum3 or num5 == cnum3 and num1 == cnum4 or num2 == cnum4 or num3 == cnum4 or num4 == cnum4 or num5 == cnum4 and num1 == cnum5 or num2 == cnum5 or num3 == cnum5 or num4 == cnum5 or num5 == cnum5:\n",
    "        print(f\"The powerball numbers are {cnum1}, {cnum2}, {cnum3}, {cnum4}, {cnum5}\")\n",
    "        print(\"You won the poweball! You get $340,000,000\")\n",
    "    elif pnum == cpnum:\n",
    "        print(f\"The powerball number was: {cpnum}. You won $4!\")\n",
    "    else:\n",
    "        print(f\"The powerball number was: {cpnum}. You didn't get it!\")"
   ]
  },
  {
   "cell_type": "code",
   "execution_count": null,
   "id": "c67d170c",
   "metadata": {},
   "outputs": [],
   "source": []
  }
 ],
 "metadata": {
  "kernelspec": {
   "display_name": "Python 3 (ipykernel)",
   "language": "python",
   "name": "python3"
  },
  "language_info": {
   "codemirror_mode": {
    "name": "ipython",
    "version": 3
   },
   "file_extension": ".py",
   "mimetype": "text/x-python",
   "name": "python",
   "nbconvert_exporter": "python",
   "pygments_lexer": "ipython3",
   "version": "3.9.12"
  }
 },
 "nbformat": 4,
 "nbformat_minor": 5
}
